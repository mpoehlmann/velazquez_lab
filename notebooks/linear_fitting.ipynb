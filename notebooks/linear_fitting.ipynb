{
 "cells": [
  {
   "cell_type": "markdown",
   "source": [
    "# Linear fitting"
   ],
   "metadata": {}
  },
  {
   "cell_type": "markdown",
   "source": [
    "Here is an example of how to do linear fitting with X and Y errors."
   ],
   "metadata": {}
  },
  {
   "cell_type": "code",
   "execution_count": 1,
   "source": [
    "%load_ext autoreload\n",
    "%autoreload 2\n",
    "%matplotlib widget\n",
    "from IPython.display import display\n",
    "import pandas as pd"
   ],
   "outputs": [],
   "metadata": {}
  },
  {
   "cell_type": "code",
   "execution_count": 2,
   "source": [
    "from velazquez_lab.utils.linear_fitting import linear_fit, plot_linear_fit, plot_chi\n",
    "from velazquez_lab.utils import styles\n",
    "\n",
    "# Load data file.\n",
    "df = pd.read_table('../data/linear_fit_xyerr.csv', header=0, sep=',')\n",
    "\n",
    "# Do fit.\n",
    "m_fit, b_fit, redchi = linear_fit(df['x'], df['y'], x_err=df['x_err'], y_err=df['y_err'], is_verbose=True)\n",
    "display(f\"m = {m_fit}\")\n",
    "display(f\"b = {b_fit}\")\n",
    "display(f\"redchi = {redchi:.4g}\")\n",
    "\n",
    "# Draw plot.\n",
    "styles.set_matplotlib_style()\n",
    "fig, ax = plot_linear_fit(df['x'], df['y'], m_fit, b_fit, x_err=df['x_err'], y_err=df['y_err'], redchi=redchi)\n",
    "fig, ax = plot_chi(df['x'], df['y'], m_fit, b_fit, x_err=df['x_err'], y_err=df['y_err'])"
   ],
   "outputs": [
    {
     "output_type": "stream",
     "name": "stdout",
     "text": [
      "[[Fit Statistics]]\n",
      "    # fitting method   = leastsq\n",
      "    # function evals   = 82\n",
      "    # data points      = 23\n",
      "    # variables        = 2\n",
      "    chi-square         = 3748.95919\n",
      "    reduced chi-square = 178.521866\n",
      "    Akaike info crit   = 121.156004\n",
      "    Bayesian info crit = 123.426993\n",
      "[[Variables]]\n",
      "    m:  4.2932e-04 +/- 5.1167e-06 (1.19%) (init = 1)\n",
      "    b: -1.5099e-06 +/- 1.9789e-05 (1310.61%) (init = 0)\n",
      "[[Correlations]] (unreported correlations are < 0.100)\n",
      "    C(m, b) = -0.105\n"
     ]
    },
    {
     "output_type": "display_data",
     "data": {
      "text/plain": [
       "'m = 0.000429+/-0.000005'"
      ]
     },
     "metadata": {}
    },
    {
     "output_type": "display_data",
     "data": {
      "text/plain": [
       "'b = (-0.2+/-2.0)e-05'"
      ]
     },
     "metadata": {}
    },
    {
     "output_type": "display_data",
     "data": {
      "text/plain": [
       "'redchi = 178.5'"
      ]
     },
     "metadata": {}
    },
    {
     "output_type": "display_data",
     "data": {
      "application/vnd.jupyter.widget-view+json": {
       "version_major": 2,
       "version_minor": 0,
       "model_id": "0b0abd15cdb44508878e9390de5a2f1c"
      },
      "text/plain": [
       "Canvas(toolbar=Toolbar(toolitems=[('Home', 'Reset original view', 'home', 'home'), ('Back', 'Back to previous …"
      ]
     },
     "metadata": {}
    },
    {
     "output_type": "display_data",
     "data": {
      "application/vnd.jupyter.widget-view+json": {
       "version_major": 2,
       "version_minor": 0,
       "model_id": "64515343e4844aa6a283020bff7c8258"
      },
      "text/plain": [
       "Canvas(toolbar=Toolbar(toolitems=[('Home', 'Reset original view', 'home', 'home'), ('Back', 'Back to previous …"
      ]
     },
     "metadata": {}
    }
   ],
   "metadata": {}
  }
 ],
 "metadata": {
  "orig_nbformat": 4,
  "language_info": {
   "name": "python",
   "version": "3.8.5",
   "mimetype": "text/x-python",
   "codemirror_mode": {
    "name": "ipython",
    "version": 3
   },
   "pygments_lexer": "ipython3",
   "nbconvert_exporter": "python",
   "file_extension": ".py"
  },
  "kernelspec": {
   "name": "python3",
   "display_name": "Python 3.8.5 64-bit ('labenv3': conda)"
  },
  "interpreter": {
   "hash": "f964f170c353619469231edf612be1a8b2f85c9fa95ab4c330f20fc6e1ea8b17"
  }
 },
 "nbformat": 4,
 "nbformat_minor": 2
}