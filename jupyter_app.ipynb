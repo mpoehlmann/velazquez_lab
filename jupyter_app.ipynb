{
 "cells": [
  {
   "cell_type": "markdown",
   "id": "d323aa68-8a1e-4804-87e2-1c6a397f16d8",
   "metadata": {},
   "source": [
    "# Velazquez Lab Data Analysis Toolkit"
   ]
  },
  {
   "cell_type": "markdown",
   "id": "7e809e8b-31d2-45eb-a6cf-e31eb32ad454",
   "metadata": {},
   "source": [
    "Run all cells in this notebook (``Cell->Run All``).\n",
    "Then, click on the link below to start the application."
   ]
  },
  {
   "cell_type": "code",
   "execution_count": null,
   "id": "d80db2fa",
   "metadata": {},
   "outputs": [],
   "source": [
    "from jupyter_dash import JupyterDash\n",
    "JupyterDash.infer_jupyter_proxy_config()\n",
    "\n",
    "from app import build_app\n",
    "app = build_app(jupyter=True, theme='light')"
   ]
  },
  {
   "cell_type": "code",
   "execution_count": null,
   "metadata": {},
   "outputs": [],
   "source": [
    "app.run_server()"
   ]
  }
 ],
 "metadata": {
  "kernelspec": {
   "display_name": "Python 3",
   "language": "python",
   "name": "python3"
  },
  "language_info": {
   "codemirror_mode": {
    "name": "ipython",
    "version": 3
   },
   "file_extension": ".py",
   "mimetype": "text/x-python",
   "name": "python",
   "nbconvert_exporter": "python",
   "pygments_lexer": "ipython3",
   "version": "3.8.5"
  }
 },
 "nbformat": 4,
 "nbformat_minor": 5
}