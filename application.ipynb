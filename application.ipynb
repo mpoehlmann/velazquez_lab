{
 "cells": [
  {
   "cell_type": "code",
   "execution_count": 1,
   "id": "d80db2fa",
   "metadata": {},
   "outputs": [
    {
     "ename": "ModuleNotFoundError",
     "evalue": "No module named 'jupyter_dash'",
     "output_type": "error",
     "traceback": [
      "\u001b[0;31m---------------------------------------------------------------------------\u001b[0m",
      "\u001b[0;31mModuleNotFoundError\u001b[0m                       Traceback (most recent call last)",
      "\u001b[0;32m<ipython-input-1-0faefbb806c6>\u001b[0m in \u001b[0;36m<module>\u001b[0;34m\u001b[0m\n\u001b[1;32m      5\u001b[0m \u001b[0;34m\u001b[0m\u001b[0m\n\u001b[1;32m      6\u001b[0m \u001b[0;32mimport\u001b[0m \u001b[0mdash\u001b[0m\u001b[0;34m\u001b[0m\u001b[0;34m\u001b[0m\u001b[0m\n\u001b[0;32m----> 7\u001b[0;31m \u001b[0;32mfrom\u001b[0m \u001b[0mjupyter_dash\u001b[0m \u001b[0;32mimport\u001b[0m \u001b[0mJupyterDash\u001b[0m\u001b[0;34m\u001b[0m\u001b[0;34m\u001b[0m\u001b[0m\n\u001b[0m\u001b[1;32m      8\u001b[0m \u001b[0;32mfrom\u001b[0m \u001b[0mdash\u001b[0m\u001b[0;34m.\u001b[0m\u001b[0mdependencies\u001b[0m \u001b[0;32mimport\u001b[0m \u001b[0mInput\u001b[0m\u001b[0;34m,\u001b[0m \u001b[0mOutput\u001b[0m\u001b[0;34m,\u001b[0m \u001b[0mState\u001b[0m\u001b[0;34m\u001b[0m\u001b[0;34m\u001b[0m\u001b[0m\n\u001b[1;32m      9\u001b[0m \u001b[0;32mfrom\u001b[0m \u001b[0mdash\u001b[0m\u001b[0;34m.\u001b[0m\u001b[0mexceptions\u001b[0m \u001b[0;32mimport\u001b[0m \u001b[0mPreventUpdate\u001b[0m\u001b[0;34m\u001b[0m\u001b[0;34m\u001b[0m\u001b[0m\n",
      "\u001b[0;31mModuleNotFoundError\u001b[0m: No module named 'jupyter_dash'"
     ]
    }
   ],
   "source": [
    "\"\"\"Analysis dashboard. This is a graphical user interface (GUI) for user-friendly data analysis.\n",
    "Notes:\n",
    "  This is the suggested way to setup a Dash app, not nested within a class.\n",
    "\"\"\"\n",
    "\n",
    "import dash\n",
    "from jupyter_dash import JupyterDash\n",
    "from dash.dependencies import Input, Output, State\n",
    "from dash.exceptions import PreventUpdate\n",
    "import dash_html_components as html\n",
    "import pandas as pd\n",
    "\n",
    "from velazquez_lab.app import templates\n",
    "from velazquez_lab.app.pol_page import create_pol_page\n",
    "from velazquez_lab.plot import styles\n",
    "\n",
    "\n",
    "styles.set_plotly_style('light')\n",
    "\n",
    "\"\"\"Setup application.\"\"\"\n",
    "app = JupyterDash(\n",
    "  __name__,\n",
    "  title = 'Velázquez Lab',\n",
    "  external_stylesheets=[\n",
    "    \"https://cdn.jsdelivr.net/npm/bootswatch@4.5.2/dist/flatly/bootstrap.min.css\",\n",
    "    \"https://use.fontawesome.com/releases/v5.15.3/css/all.css\",\n",
    "    # \"https://codepen.io/rmarren1/pen/mLqGRg.css\",\n",
    "  ],\n",
    ")\n",
    "\n",
    "\n",
    "\"\"\"Define pages.\"\"\"\n",
    "pages = pd.DataFrame([\n",
    "  dict(id='pg_pol', label='Polarization curves', content=create_pol_page),\n",
    "  # dict(id='id_2', label='Label 2', content=create_pol_page),\n",
    "  # dict(id='id_3', label='Label 3', content=create_pol_page),\n",
    "])\n",
    "\n",
    "def create_page(i):\n",
    "  return [templates.build_navbar(app, pages, i, subtitle='Data Analysis Toolkit'), pages.loc[i, 'content'](app)]\n",
    "\n",
    "\n",
    "\"\"\"Create layout and setup page loading.\"\"\"\n",
    "app.layout = html.Div(create_page(0), id='page-content')\n",
    "\n",
    "@app.callback(\n",
    "  Output(\"page-content\", \"children\"),\n",
    "  *(Input(pid, 'n_clicks_timestamp') for pid in pages['id']),\n",
    ")\n",
    "def toggle_collapse(c, *inputs):\n",
    "  ctx = dash.callback_context\n",
    "  button_id = ctx.triggered[0]['prop_id'].split('.')[0] if ctx.triggered else None\n",
    "  if button_id is None:\n",
    "    raise PreventUpdate\n",
    "  for i, p in enumerate(pages.itertuples()):\n",
    "    if p.id == button_id:\n",
    "      return create_page(i)\n",
    "\n",
    "app.run_server(mode='jupyterlab')"
   ]
  },
  {
   "cell_type": "code",
   "execution_count": null,
   "id": "ec1dd33f",
   "metadata": {},
   "outputs": [],
   "source": []
  }
 ],
 "metadata": {
  "kernelspec": {
   "display_name": "Python 3",
   "language": "python",
   "name": "python3"
  },
  "language_info": {
   "codemirror_mode": {
    "name": "ipython",
    "version": 3
   },
   "file_extension": ".py",
   "mimetype": "text/x-python",
   "name": "python",
   "nbconvert_exporter": "python",
   "pygments_lexer": "ipython3",
   "version": "3.8.5"
  }
 },
 "nbformat": 4,
 "nbformat_minor": 5
}
