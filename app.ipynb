{
 "cells": [
  {
   "cell_type": "markdown",
   "id": "d323aa68-8a1e-4804-87e2-1c6a397f16d8",
   "metadata": {},
   "source": [
    "# Velazquez Lab Data Analysis Toolkit"
   ]
  },
  {
   "cell_type": "markdown",
   "id": "7e809e8b-31d2-45eb-a6cf-e31eb32ad454",
   "metadata": {},
   "source": [
    "To start the data analysis application, run the cell below (Shift+Enter) and then click on the link."
   ]
  },
  {
   "cell_type": "code",
   "execution_count": 4,
   "id": "d80db2fa",
   "metadata": {},
   "outputs": [
    {
     "name": "stderr",
     "output_type": "stream",
     "text": [
      "/Applications/miniconda/envs/labenv3/lib/python3.8/site-packages/jupyter_dash/jupyter_app.py:139: UserWarning: The 'environ['werkzeug.server.shutdown']' function is deprecated and will be removed in Werkzeug 2.1.\n",
      "  func()\n"
     ]
    },
    {
     "name": "stdout",
     "output_type": "stream",
     "text": [
      "Dash app running on http://x86_64-apple-darwin13.4.0:8050/\n"
     ]
    }
   ],
   "source": [
    "from jupyter_dash import JupyterDash\n",
    "JupyterDash.infer_jupyter_proxy_config()\n",
    "\n",
    "from app import build_app\n",
    "app = build_app(jupyter=True)\n",
    "app.run_server()"
   ]
  },
  {
   "cell_type": "markdown",
   "id": "4c33866e-d5ef-4680-9641-516c5819ef93",
   "metadata": {},
   "source": []
  }
 ],
 "metadata": {
  "kernelspec": {
   "display_name": "Python 3",
   "language": "python",
   "name": "python3"
  },
  "language_info": {
   "codemirror_mode": {
    "name": "ipython",
    "version": 3
   },
   "file_extension": ".py",
   "mimetype": "text/x-python",
   "name": "python",
   "nbconvert_exporter": "python",
   "pygments_lexer": "ipython3",
   "version": "3.8.5"
  }
 },
 "nbformat": 4,
 "nbformat_minor": 5
}
