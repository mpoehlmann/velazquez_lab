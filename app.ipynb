{
 "cells": [
  {
   "cell_type": "code",
   "execution_count": 1,
   "id": "198fdee8-b728-4fcc-91d6-9e2fba6aa182",
   "metadata": {},
   "outputs": [],
   "source": [
    "from jupyter_dash import JupyterDash\n",
    "import dash_html_components as html\n",
    "JupyterDash.infer_jupyter_proxy_config()\n",
    "\n",
    "app = JupyterDash(__name__)\n",
    "app.layout = html.Div('Minimal')\n",
    "app.run_server(mode='jupyterlab')"
   ]
  },
  {
   "cell_type": "markdown",
   "id": "8e325ada-729a-4432-92ba-1e90a18c896e",
   "metadata": {},
   "source": []
  }
 ],
 "metadata": {
  "kernelspec": {
   "display_name": "Python 3",
   "language": "python",
   "name": "python3"
  },
  "language_info": {
   "codemirror_mode": {
    "name": "ipython",
    "version": 3
   },
   "file_extension": ".py",
   "mimetype": "text/x-python",
   "name": "python",
   "nbconvert_exporter": "python",
   "pygments_lexer": "ipython3",
   "version": "3.8.5"
  }
 },
 "nbformat": 4,
 "nbformat_minor": 5
}
